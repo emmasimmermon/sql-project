{
 "cells": [
  {
   "cell_type": "code",
   "execution_count": 1,
   "id": "2aa67ff1",
   "metadata": {
    "execution": {
     "iopub.execute_input": "2025-05-10T22:48:30.566132Z",
     "iopub.status.busy": "2025-05-10T22:48:30.566132Z",
     "iopub.status.idle": "2025-05-10T22:48:34.074382Z",
     "shell.execute_reply": "2025-05-10T22:48:34.070729Z"
    }
   },
   "outputs": [
    {
     "name": "stdout",
     "output_type": "stream",
     "text": [
      "✅ Schema 'sql_project' created or already exists.\n"
     ]
    },
    {
     "name": "stdout",
     "output_type": "stream",
     "text": [
      "✅ Ulta reviews loaded to RDS.\n"
     ]
    },
    {
     "name": "stdout",
     "output_type": "stream",
     "text": [
      "✅ Sephora products loaded to RDS.\n"
     ]
    }
   ],
   "source": [
    "import os\n",
    "import pandas as pd\n",
    "import sqlalchemy\n",
    "from sqlalchemy import text\n",
    "from dotenv import load_dotenv\n",
    "\n",
    "# Load environment variables from .env file\n",
    "load_dotenv()\n",
    "\n",
    "# Read DB connection parameters\n",
    "DB_USER = os.getenv(\"DB_USER\")\n",
    "DB_PASS = os.getenv(\"DB_PASS\")\n",
    "DB_HOST = os.getenv(\"DB_HOST\")\n",
    "DB_PORT = os.getenv(\"DB_PORT\")\n",
    "DB_NAME = os.getenv(\"DB_NAME\")\n",
    "\n",
    "# Create connection string and engine\n",
    "connection_str = f\"postgresql://{DB_USER}:{DB_PASS}@{DB_HOST}:{DB_PORT}/{DB_NAME}\"\n",
    "engine = sqlalchemy.create_engine(connection_str)\n",
    "\n",
    "# ✅ Step 1: Create schema if it doesn't exist (with transactional context to ensure commit)\n",
    "with engine.begin() as conn:\n",
    "    conn.execute(text(\"CREATE SCHEMA IF NOT EXISTS sql_project;\"))\n",
    "    print(\"✅ Schema 'sql_project' created or already exists.\")\n",
    "\n",
    "# ✅ Step 2: Load cleaned CSV files into DataFrames\n",
    "ulta_path = \"../../Data/Clean/ulta_reviews_clean.csv\"\n",
    "sephora_path = \"../../Data/Clean/all_products_clean.csv\"\n",
    "\n",
    "ulta_df = pd.read_csv(ulta_path)\n",
    "sephora_df = pd.read_csv(sephora_path)\n",
    "\n",
    "# ✅ Step 3: Load data into AWS RDS under schema 'sql_project'\n",
    "try:\n",
    "    ulta_df.to_sql(\"ulta_reviews\", engine, schema=\"sql_project\", if_exists=\"replace\", index=False)\n",
    "    print(\"✅ Ulta reviews loaded to RDS.\")\n",
    "except Exception as e:\n",
    "    print(\"❌ Failed to load Ulta reviews:\", e)\n",
    "\n",
    "try:\n",
    "    sephora_df.to_sql(\"all_products_data\", engine, schema=\"sql_project\", if_exists=\"replace\", index=False)\n",
    "    print(\"✅ Sephora products loaded to RDS.\")\n",
    "except Exception as e:\n",
    "    print(\"❌ Failed to load Sephora products:\", e)\n"
   ]
  }
 ],
 "metadata": {
  "kernelspec": {
   "display_name": "env",
   "language": "python",
   "name": "python3"
  },
  "language_info": {
   "codemirror_mode": {
    "name": "ipython",
    "version": 3
   },
   "file_extension": ".py",
   "mimetype": "text/x-python",
   "name": "python",
   "nbconvert_exporter": "python",
   "pygments_lexer": "ipython3",
   "version": "3.12.3"
  }
 },
 "nbformat": 4,
 "nbformat_minor": 5
}
