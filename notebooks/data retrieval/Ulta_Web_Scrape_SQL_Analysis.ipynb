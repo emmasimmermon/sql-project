{
 "cells": [
  {
   "cell_type": "code",
   "execution_count": 1,
   "id": "f5bebd72",
   "metadata": {
    "execution": {
     "iopub.execute_input": "2025-05-10T22:48:54.597088Z",
     "iopub.status.busy": "2025-05-10T22:48:54.597088Z",
     "iopub.status.idle": "2025-05-10T22:48:56.540376Z",
     "shell.execute_reply": "2025-05-10T22:48:56.540376Z"
    }
   },
   "outputs": [
    {
     "name": "stdout",
     "output_type": "stream",
     "text": [
      "✅ Exported: ulta_most_reviewed.csv\n"
     ]
    },
    {
     "name": "stdout",
     "output_type": "stream",
     "text": [
      "✅ Exported: ulta_reviews_by_product.csv\n"
     ]
    }
   ],
   "source": [
    "# notebooks/Ulta_Web_Scrape_SQL_Analysis.ipynb\n",
    "\n",
    "import pandas as pd\n",
    "import sqlalchemy\n",
    "import os\n",
    "from sqlalchemy import text\n",
    "from dotenv import load_dotenv\n",
    "\n",
    "# Load environment variables from .env file\n",
    "load_dotenv()\n",
    "\n",
    "# Read DB credentials\n",
    "DB_USER = os.getenv(\"DB_USER\")\n",
    "DB_PASS = os.getenv(\"DB_PASS\")\n",
    "DB_HOST = os.getenv(\"DB_HOST\")\n",
    "DB_PORT = os.getenv(\"DB_PORT\")\n",
    "DB_NAME = os.getenv(\"DB_NAME\")\n",
    "\n",
    "# Connect to AWS RDS PostgreSQL instance\n",
    "engine = sqlalchemy.create_engine(\n",
    "    f\"postgresql://{DB_USER}:{DB_PASS}@{DB_HOST}:{DB_PORT}/{DB_NAME}\"\n",
    ")\n",
    "\n",
    "# Query 1: Most Reviewed Products\n",
    "query_most_reviewed = '''\n",
    "SELECT \n",
    "    product,\n",
    "    COUNT(*) AS total_reviews\n",
    "FROM sql_project.ulta_reviews\n",
    "GROUP BY product\n",
    "ORDER BY total_reviews DESC\n",
    "LIMIT 10;\n",
    "'''\n",
    "\n",
    "most_reviewed_df = pd.read_sql(query_most_reviewed, engine)\n",
    "most_reviewed_df.to_csv(\"../../Data/Retrieve/ulta_most_reviewed.csv\", index=False)\n",
    "print(\"✅ Exported: ulta_most_reviewed.csv\")\n",
    "\n",
    "# Query 2: All Reviews of People for a Product\n",
    "query_reviews = '''\n",
    "SELECT \n",
    "    product,\n",
    "    brand,\n",
    "    review_title,\n",
    "    review_text,\n",
    "    review_location,\n",
    "    verified_buyer,\n",
    "    review_upvotes,\n",
    "    review_downvotes\n",
    "FROM sql_project.ulta_reviews\n",
    "ORDER BY product;\n",
    "'''\n",
    "\n",
    "reviews_df = pd.read_sql(query_reviews, engine)\n",
    "reviews_df.to_csv(\"../../Data/Retrieve/ulta_reviews_by_product.csv\", index=False)\n",
    "print(\"✅ Exported: ulta_reviews_by_product.csv\")\n"
   ]
  }
 ],
 "metadata": {
  "kernelspec": {
   "display_name": "env",
   "language": "python",
   "name": "python3"
  },
  "language_info": {
   "codemirror_mode": {
    "name": "ipython",
    "version": 3
   },
   "file_extension": ".py",
   "mimetype": "text/x-python",
   "name": "python",
   "nbconvert_exporter": "python",
   "pygments_lexer": "ipython3",
   "version": "3.12.3"
  }
 },
 "nbformat": 4,
 "nbformat_minor": 5
}
