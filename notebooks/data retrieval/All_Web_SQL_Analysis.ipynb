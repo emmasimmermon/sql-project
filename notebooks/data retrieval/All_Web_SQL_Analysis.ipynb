{
 "cells": [
  {
   "cell_type": "code",
   "execution_count": 1,
   "id": "47689d94",
   "metadata": {
    "execution": {
     "iopub.execute_input": "2025-05-10T22:48:45.203802Z",
     "iopub.status.busy": "2025-05-10T22:48:45.201599Z",
     "iopub.status.idle": "2025-05-10T22:48:47.432776Z",
     "shell.execute_reply": "2025-05-10T22:48:47.432776Z"
    }
   },
   "outputs": [
    {
     "name": "stdout",
     "output_type": "stream",
     "text": [
      "✅ Grouped data exported to: ../../Data/Retrieve/retailer_attributes_long_format.csv\n"
     ]
    }
   ],
   "source": [
    "import pandas as pd\n",
    "import sqlalchemy\n",
    "import os\n",
    "from sqlalchemy import text\n",
    "from dotenv import load_dotenv\n",
    "\n",
    "# Load database credentials\n",
    "load_dotenv()\n",
    "\n",
    "DB_USER = os.getenv(\"DB_USER\")\n",
    "DB_PASS = os.getenv(\"DB_PASS\")\n",
    "DB_HOST = os.getenv(\"DB_HOST\")\n",
    "DB_PORT = os.getenv(\"DB_PORT\")\n",
    "DB_NAME = os.getenv(\"DB_NAME\")\n",
    "\n",
    "# Create SQLAlchemy engine\n",
    "engine = sqlalchemy.create_engine(f\"postgresql://{DB_USER}:{DB_PASS}@{DB_HOST}:{DB_PORT}/{DB_NAME}\")\n",
    "\n",
    "# Load data from RDS table\n",
    "query = \"SELECT * FROM sql_project.all_products_data;\"\n",
    "df = pd.read_sql(query, engine)\n",
    "\n",
    "# Normalize column names\n",
    "df.columns = df.columns.str.strip().str.lower().str.replace(\" \", \"_\")\n",
    "\n",
    "# Convert relevant fields to boolean\n",
    "bool_cols = ['all_vegan', 'partial_vegan', 'bad_parent_company', 'black_owned']\n",
    "for col in bool_cols:\n",
    "    df[col] = df[col].astype(str).str.lower().map({'true': True, 'false': False})\n",
    "\n",
    "# Group by retailer attributes\n",
    "retailers = ['ulta', 'sephora', 'beauty_bay', 'cult_beauty', 'nordstrom']\n",
    "grouped_data = {}\n",
    "\n",
    "for retailer in retailers:\n",
    "    counts = {\n",
    "        'all_vegan': df[df[retailer] == 1]['all_vegan'].sum(),\n",
    "        'partial_vegan': df[df[retailer] == 1]['partial_vegan'].sum(),\n",
    "        'bad_parent_company': df[df[retailer] == 1]['bad_parent_company'].sum(),\n",
    "        'black_owned': df[df[retailer] == 1]['black_owned'].sum(),\n",
    "    }\n",
    "    grouped_data[retailer] = counts\n",
    "\n",
    "# Convert to DataFrame and reshape for one-line Looker Studio use\n",
    "grouped_df = pd.DataFrame(grouped_data).T.reset_index()\n",
    "grouped_df = grouped_df.rename(columns={'index': 'retailer'})\n",
    "long_format_df = grouped_df.melt(id_vars='retailer', var_name='attribute', value_name='count')\n",
    "\n",
    "# Save as one CSV file for Looker Studio\n",
    "output_path = \"../../Data/Retrieve/retailer_attributes_long_format.csv\"\n",
    "long_format_df.to_csv(output_path, index=False)\n",
    "\n",
    "print(f\"✅ Grouped data exported to: {output_path}\")\n"
   ]
  }
 ],
 "metadata": {
  "kernelspec": {
   "display_name": "env",
   "language": "python",
   "name": "python3"
  },
  "language_info": {
   "codemirror_mode": {
    "name": "ipython",
    "version": 3
   },
   "file_extension": ".py",
   "mimetype": "text/x-python",
   "name": "python",
   "nbconvert_exporter": "python",
   "pygments_lexer": "ipython3",
   "version": "3.12.3"
  }
 },
 "nbformat": 4,
 "nbformat_minor": 5
}
