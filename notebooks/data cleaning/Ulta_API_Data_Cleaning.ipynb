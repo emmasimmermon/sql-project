{
 "cells": [
  {
   "cell_type": "code",
   "execution_count": 1,
   "id": "ab20c5dd",
   "metadata": {
    "execution": {
     "iopub.execute_input": "2025-05-10T22:48:19.197218Z",
     "iopub.status.busy": "2025-05-10T22:48:19.196207Z",
     "iopub.status.idle": "2025-05-10T22:48:20.042728Z",
     "shell.execute_reply": "2025-05-10T22:48:20.040696Z"
    }
   },
   "outputs": [],
   "source": [
    "import pandas as pd"
   ]
  },
  {
   "cell_type": "code",
   "execution_count": 2,
   "id": "608b3ff1",
   "metadata": {
    "execution": {
     "iopub.execute_input": "2025-05-10T22:48:20.046797Z",
     "iopub.status.busy": "2025-05-10T22:48:20.046797Z",
     "iopub.status.idle": "2025-05-10T22:48:20.099934Z",
     "shell.execute_reply": "2025-05-10T22:48:20.099625Z"
    }
   },
   "outputs": [],
   "source": [
    "# Load raw data file (Ulta-specific reviews only)\n",
    "ulta_reviews_df = pd.read_csv(\"../../Data/Raw/Ulta-Skincare-Reviews.csv\")"
   ]
  },
  {
   "cell_type": "code",
   "execution_count": 3,
   "id": "6c96a62d",
   "metadata": {
    "execution": {
     "iopub.execute_input": "2025-05-10T22:48:20.109104Z",
     "iopub.status.busy": "2025-05-10T22:48:20.106977Z",
     "iopub.status.idle": "2025-05-10T22:48:20.123248Z",
     "shell.execute_reply": "2025-05-10T22:48:20.122225Z"
    }
   },
   "outputs": [],
   "source": [
    "# Clean column names: lowercase, strip spaces, replace spaces with underscores\n",
    "ulta_reviews_df.columns = ulta_reviews_df.columns.str.strip().str.lower().str.replace(\" \", \"_\")\n",
    "\n",
    "\n",
    "# Drop rows with missing critical data in Ulta reviews\n",
    "ulta_reviews_clean = ulta_reviews_df.dropna(subset=['review_text', 'review_location'])"
   ]
  },
  {
   "cell_type": "code",
   "execution_count": 4,
   "id": "b32cc1e4",
   "metadata": {
    "execution": {
     "iopub.execute_input": "2025-05-10T22:48:20.123248Z",
     "iopub.status.busy": "2025-05-10T22:48:20.123248Z",
     "iopub.status.idle": "2025-05-10T22:48:20.150319Z",
     "shell.execute_reply": "2025-05-10T22:48:20.150319Z"
    }
   },
   "outputs": [
    {
     "name": "stderr",
     "output_type": "stream",
     "text": [
      "C:\\Users\\aadit\\AppData\\Local\\Temp\\ipykernel_2040\\398507925.py:2: SettingWithCopyWarning: \n",
      "A value is trying to be set on a copy of a slice from a DataFrame.\n",
      "Try using .loc[row_indexer,col_indexer] = value instead\n",
      "\n",
      "See the caveats in the documentation: https://pandas.pydata.org/pandas-docs/stable/user_guide/indexing.html#returning-a-view-versus-a-copy\n",
      "  ulta_reviews_clean['brand'] = ulta_reviews_clean['brand'].str.strip().str.lower()\n",
      "C:\\Users\\aadit\\AppData\\Local\\Temp\\ipykernel_2040\\398507925.py:3: SettingWithCopyWarning: \n",
      "A value is trying to be set on a copy of a slice from a DataFrame.\n",
      "Try using .loc[row_indexer,col_indexer] = value instead\n",
      "\n",
      "See the caveats in the documentation: https://pandas.pydata.org/pandas-docs/stable/user_guide/indexing.html#returning-a-view-versus-a-copy\n",
      "  ulta_reviews_clean['product'] = ulta_reviews_clean['product'].str.strip().str.lower()\n"
     ]
    }
   ],
   "source": [
    "# Standardize brand and product names for matching\n",
    "ulta_reviews_clean['brand'] = ulta_reviews_clean['brand'].str.strip().str.lower()\n",
    "ulta_reviews_clean['product'] = ulta_reviews_clean['product'].str.strip().str.lower()\n"
   ]
  },
  {
   "cell_type": "code",
   "execution_count": 5,
   "id": "a2660b34",
   "metadata": {
    "execution": {
     "iopub.execute_input": "2025-05-10T22:48:20.150319Z",
     "iopub.status.busy": "2025-05-10T22:48:20.150319Z",
     "iopub.status.idle": "2025-05-10T22:48:20.213919Z",
     "shell.execute_reply": "2025-05-10T22:48:20.213919Z"
    }
   },
   "outputs": [
    {
     "name": "stdout",
     "output_type": "stream",
     "text": [
      "Cleaning complete. File saved:\n",
      "- data/ulta_reviews_clean.csv\n"
     ]
    }
   ],
   "source": [
    "# Save cleaned version to CSV for loading into database\n",
    "ulta_reviews_clean.to_csv(\"../../Data/Clean/ulta_reviews_clean.csv\", index=False)\n",
    "\n",
    "print(\"Cleaning complete. File saved:\")\n",
    "print(\"- data/ulta_reviews_clean.csv\")"
   ]
  },
  {
   "cell_type": "code",
   "execution_count": null,
   "id": "10d9717d",
   "metadata": {},
   "outputs": [],
   "source": []
  }
 ],
 "metadata": {
  "kernelspec": {
   "display_name": "env",
   "language": "python",
   "name": "python3"
  },
  "language_info": {
   "codemirror_mode": {
    "name": "ipython",
    "version": 3
   },
   "file_extension": ".py",
   "mimetype": "text/x-python",
   "name": "python",
   "nbconvert_exporter": "python",
   "pygments_lexer": "ipython3",
   "version": "3.12.3"
  }
 },
 "nbformat": 4,
 "nbformat_minor": 5
}
