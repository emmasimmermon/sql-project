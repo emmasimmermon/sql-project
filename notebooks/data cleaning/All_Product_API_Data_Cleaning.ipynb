{
 "cells": [
  {
   "cell_type": "code",
   "execution_count": 1,
   "id": "5e163ab2",
   "metadata": {
    "execution": {
     "iopub.execute_input": "2025-05-10T22:48:07.156921Z",
     "iopub.status.busy": "2025-05-10T22:48:07.156921Z",
     "iopub.status.idle": "2025-05-10T22:48:08.368022Z",
     "shell.execute_reply": "2025-05-10T22:48:08.368022Z"
    }
   },
   "outputs": [
    {
     "name": "stdout",
     "output_type": "stream",
     "text": [
      "Product-retailer data cleaned and saved to: ../../Data/Clean/all_products_clean.csv\n"
     ]
    }
   ],
   "source": [
    "# notebooks/Sephora_API_Extract_Load_Raw.ipynb\n",
    "\n",
    "import pandas as pd\n",
    "\n",
    "# Load the local CSV file containing product-retailer data\n",
    "file_path = \"../../Data/Raw/cf_products_with_retailers.csv\"\n",
    "product_df = pd.read_csv(file_path)\n",
    "\n",
    "# Clean column names\n",
    "product_df.columns = product_df.columns.str.strip().str.lower().str.replace(\" \", \"_\")\n",
    "\n",
    "# Drop unnecessary unnamed index column if present\n",
    "if 'unnamed:_0' in product_df.columns:\n",
    "    product_df = product_df.drop(columns=['unnamed:_0'])\n",
    "\n",
    "# Standardize brand names (optional but useful)\n",
    "product_df['brand'] = product_df['brand'].str.strip().str.lower()\n",
    "\n",
    "# Save the cleaned dataset\n",
    "clean_path = \"../../Data/Clean/all_products_clean.csv\"\n",
    "product_df.to_csv(clean_path, index=False)\n",
    "\n",
    "print(f\"Product-retailer data cleaned and saved to: {clean_path}\")\n"
   ]
  }
 ],
 "metadata": {
  "kernelspec": {
   "display_name": "env",
   "language": "python",
   "name": "python3"
  },
  "language_info": {
   "codemirror_mode": {
    "name": "ipython",
    "version": 3
   },
   "file_extension": ".py",
   "mimetype": "text/x-python",
   "name": "python",
   "nbconvert_exporter": "python",
   "pygments_lexer": "ipython3",
   "version": "3.12.3"
  }
 },
 "nbformat": 4,
 "nbformat_minor": 5
}
